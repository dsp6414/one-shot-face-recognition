{
 "cells": [
  {
   "cell_type": "markdown",
   "metadata": {},
   "source": [
    "# Small sample face recognition\n",
    "\n",
    "## Initialization"
   ]
  },
  {
   "cell_type": "code",
   "execution_count": null,
   "metadata": {},
   "outputs": [],
   "source": [
    "import sys\n",
    "import dlib\n",
    "import numpy as np\n",
    "from skimage import io\n",
    "import matplotlib.pyplot as plt\n",
    "import matplotlib.patches as patches"
   ]
  },
  {
   "cell_type": "code",
   "execution_count": null,
   "metadata": {},
   "outputs": [],
   "source": [
    "# for jupyter notebook\n",
    "%pylab inline\n",
    "%matplotlib inline\n",
    "# tell jupyter notebook what size figure should be\n",
    "pylab.rcParams['figure.figsize'] = (16, 9)\n",
    "# for auto-update module\n",
    "%load_ext autoreload\n",
    "%autoreload 2"
   ]
  },
  {
   "cell_type": "markdown",
   "metadata": {},
   "source": [
    "## Load image"
   ]
  },
  {
   "cell_type": "code",
   "execution_count": null,
   "metadata": {},
   "outputs": [],
   "source": [
    "file_name = './fig/fig1.JPG'\n",
    "image = io.imread(file_name,img_num=0).astype('uint8')"
   ]
  },
  {
   "cell_type": "markdown",
   "metadata": {},
   "source": [
    "## Use HOG to detect face"
   ]
  },
  {
   "cell_type": "code",
   "execution_count": null,
   "metadata": {},
   "outputs": [],
   "source": [
    "# HOG face detector using the built-in dlib class\n",
    "face_detector = dlib.get_frontal_face_detector()\n",
    "\n",
    "# Run the HOG face detector on the image data.\n",
    "detected_faces = face_detector(image, 1)"
   ]
  },
  {
   "cell_type": "code",
   "execution_count": null,
   "metadata": {},
   "outputs": [],
   "source": [
    "# plot the image and detected faces\n",
    "fig = plt.figure()\n",
    "ax = fig.add_subplot(111)\n",
    "ax.imshow(image)\n",
    "face_image = []\n",
    "\n",
    "for i, face_rect in enumerate(detected_faces):\n",
    "    print(\"- Facess #{} found at Left: {} Top: {} Right: {} Bottom: {}\".format(i, face_rect.left(), face_rect.top(), face_rect.right(), face_rect.bottom()))\n",
    "    # Draw a box around each face we found\n",
    "    rect = patches.Rectangle((face_rect.left(),face_rect.top()),\n",
    "                             face_rect.width(),\n",
    "                             face_rect.height(),\n",
    "                             fill=False,\n",
    "                             color='red',\n",
    "                             lw = 3\n",
    "                            )\n",
    "    ax.add_patch(rect)\n",
    "    face_image.append(image[face_rect.top():face_rect.bottom(),face_rect.left():face_rect.right()])\n"
   ]
  },
  {
   "cell_type": "markdown",
   "metadata": {},
   "source": [
    "## Posing and Projecting Faces"
   ]
  },
  {
   "cell_type": "code",
   "execution_count": null,
   "metadata": {},
   "outputs": [],
   "source": [
    "# download the required pre-trained face detection model here:\n",
    "# http://dlib.net/files/shape_predictor_68_face_landmarks.dat.bz2\n",
    "predictor_model = \"shape_predictor_68_face_landmarks.dat\"\n",
    "face_pose_predictor = dlib.shape_predictor(predictor_model)\n",
    "\n",
    "# find face landmarks\n",
    "def find_face_landmarks(image,face_rect):\n",
    "    return face_pose_predictor(image, face_rect)"
   ]
  },
  {
   "cell_type": "code",
   "execution_count": null,
   "metadata": {},
   "outputs": [],
   "source": [
    "# plot face landmarks\n",
    "fig2 = plt.figure()\n",
    "ax1 = fig2.add_subplot(121)\n",
    "ax2 = fig2.add_subplot(122)\n",
    "\n",
    "def plotFaceWithMark(face,ax):\n",
    "    ax.imshow(face)\n",
    "    parts = find_face_landmarks(face, dlib.rectangle(0,0,face.shape[0],face.shape[1])).parts()\n",
    "    ax.scatter([point.x for point in parts], [point.y for point in parts])\n",
    "    \n",
    "plotFaceWithMark(face_image[0],ax1)\n",
    "plotFaceWithMark(face_image[1],ax2)"
   ]
  },
  {
   "cell_type": "code",
   "execution_count": null,
   "metadata": {},
   "outputs": [],
   "source": []
  }
 ],
 "metadata": {
  "kernelspec": {
   "display_name": "Python 3",
   "language": "python",
   "name": "python3"
  },
  "language_info": {
   "codemirror_mode": {
    "name": "ipython",
    "version": 3
   },
   "file_extension": ".py",
   "mimetype": "text/x-python",
   "name": "python",
   "nbconvert_exporter": "python",
   "pygments_lexer": "ipython3",
   "version": "3.5.1"
  }
 },
 "nbformat": 4,
 "nbformat_minor": 2
}
